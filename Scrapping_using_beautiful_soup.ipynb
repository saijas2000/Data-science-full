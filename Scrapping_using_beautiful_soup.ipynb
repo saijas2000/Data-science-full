{
 "cells": [
  {
   "cell_type": "markdown",
   "metadata": {},
   "source": [
    "# Installing Beautiful Soup"
   ]
  },
  {
   "cell_type": "code",
   "execution_count": 1,
   "metadata": {},
   "outputs": [
    {
     "name": "stdout",
     "output_type": "stream",
     "text": [
      "Requirement already satisfied: bs4 in c:\\users\\my pc\\anaconda3\\lib\\site-packages (0.0.1)\n",
      "Requirement already satisfied: beautifulsoup4 in c:\\users\\my pc\\anaconda3\\lib\\site-packages (from bs4) (4.9.3)\n",
      "Requirement already satisfied: soupsieve>1.2; python_version >= \"3.0\" in c:\\users\\my pc\\anaconda3\\lib\\site-packages (from beautifulsoup4->bs4) (2.0.1)\n"
     ]
    }
   ],
   "source": [
    "!pip install bs4\n"
   ]
  },
  {
   "cell_type": "markdown",
   "metadata": {},
   "source": [
    "# For Link-1 "
   ]
  },
  {
   "cell_type": "code",
   "execution_count": 2,
   "metadata": {},
   "outputs": [],
   "source": [
    "from urllib.request import urlopen\n",
    "import bs4\n",
    "url = \"https://books.toscrape.com/catalogue/page-1.html\"\n",
    "data = urlopen(url)\n",
    "HTML_FILE = data.read()\n",
    "data.close()"
   ]
  },
  {
   "cell_type": "code",
   "execution_count": 3,
   "metadata": {},
   "outputs": [],
   "source": [
    "soup = bs4.BeautifulSoup(HTML_FILE,'html.parser')"
   ]
  },
  {
   "cell_type": "code",
   "execution_count": 4,
   "metadata": {},
   "outputs": [],
   "source": [
    "#print(soup)"
   ]
  },
  {
   "cell_type": "code",
   "execution_count": 5,
   "metadata": {},
   "outputs": [
    {
     "name": "stdout",
     "output_type": "stream",
     "text": [
      "£51.77\n",
      "../media/cache/2c/da/2cdad67c44b002e7ead0cc35693c0e8b.jpg\n",
      "A Light in the Attic\n"
     ]
    }
   ],
   "source": [
    "k = soup.findAll('p',{'class':'price_color'})\n",
    "print(k[0].text)\n",
    "k = soup.findAll('img',{'class':'thumbnail'})[0]\n",
    "print(k.get('src'))\n",
    "k = soup.findAll('h3')[0]\n",
    "print(k.find('a').get('title'))"
   ]
  },
  {
   "cell_type": "markdown",
   "metadata": {},
   "source": [
    "# For All The links"
   ]
  },
  {
   "cell_type": "code",
   "execution_count": 6,
   "metadata": {},
   "outputs": [
    {
     "name": "stdout",
     "output_type": "stream",
     "text": [
      "                                             image_url  \\\n",
      "0    media/cache/2c/da/2cdad67c44b002e7ead0cc35693c...   \n",
      "1    media/cache/26/0c/260c6ae16bce31c8f8c95daddd9f...   \n",
      "2    media/cache/3e/ef/3eef99c9d9adef34639f51066202...   \n",
      "3    media/cache/32/51/3251cf3a3412f53f339e42cac213...   \n",
      "4    media/cache/be/a5/bea5697f2534a2f86a3ef27b5a8c...   \n",
      "..                                                 ...   \n",
      "995  ../media/cache/96/ee/96ee77d71a31b7694dac6855f...   \n",
      "996  ../media/cache/09/7c/097cb5ecc6fb3fbe1690cf0cb...   \n",
      "997  ../media/cache/1b/5f/1b5ff86f3c75e51e24c573d3f...   \n",
      "998  ../media/cache/2b/41/2b4161c5b72a4ae386b644682...   \n",
      "999  ../media/cache/d7/0f/d70f7edd92705c45a82118c3f...   \n",
      "\n",
      "                                            book_title product_price  \n",
      "0                                 A Light in the Attic        £51.77  \n",
      "1                                   Tipping the Velvet        £53.74  \n",
      "2                                           Soumission        £50.10  \n",
      "3                                        Sharp Objects        £47.82  \n",
      "4                Sapiens: A Brief History of Humankind        £54.23  \n",
      "..                                                 ...           ...  \n",
      "995  Alice in Wonderland (Alice's Adventures in Won...        £55.53  \n",
      "996   Ajin: Demi-Human, Volume 1 (Ajin: Demi-Human #1)        £57.06  \n",
      "997  A Spy's Devotion (The Regency Spies of London #1)        £16.97  \n",
      "998                1st to Die (Women's Murder Club #1)        £53.98  \n",
      "999                 1,000 Places to See Before You Die        £26.08  \n",
      "\n",
      "[1000 rows x 3 columns]\n"
     ]
    }
   ],
   "source": [
    "from urllib.request import urlopen\n",
    "import bs4\n",
    "import pandas as pd\n",
    "import csv\n",
    "with open(\"Shopping_site.csv\",\"w\",encoding = 'utf-8') as f:\n",
    "    output = []\n",
    "    header = [\"image_url\",\"book_title\",\"product_price\"]\n",
    "    csv_writer = csv.writer(f)\n",
    "    csv_writer.writerow(header)\n",
    "    url = \"https://books.toscrape.com/catalogue/page-\"\n",
    "    for i in range(50):\n",
    "        if i != 0:\n",
    "            data = urlopen(url+str(i+1)+\".html\")\n",
    "            HTML_FILE = data.read()\n",
    "            data.close()\n",
    "            soup = bs4.BeautifulSoup(HTML_FILE,'html.parser')\n",
    "            k1 = soup.findAll('p',{'class':'price_color'})\n",
    "            k2 = soup.findAll('img',{'class':'thumbnail'})\n",
    "            k3 = soup.findAll('h3')\n",
    "            for j in range(min(len(k1),len(k2),len(k3))):\n",
    "                csv_writer.writerow([k2[j].get('src'),k3[j].find('a').get('title'),k1[j].text])\n",
    "    \n",
    "        else:\n",
    "            data = urlopen(\"http://books.toscrape.com/\")\n",
    "            HTML_FILE = data.read()\n",
    "            data.close()\n",
    "            soup = bs4.BeautifulSoup(HTML_FILE,'html.parser')\n",
    "            k1 = soup.findAll('p',{'class':'price_color'})\n",
    "            k2 = soup.findAll('img',{'class':'thumbnail'})\n",
    "            k3 = soup.findAll('h3')\n",
    "            for j in range(min(len(k1),len(k2),len(k3))):\n",
    "                csv_writer.writerow([k2[j].get('src'),k3[j].find('a').get('title'),k1[j].text])\n",
    "    \n",
    "\n",
    "    \n",
    "    \n",
    "\n",
    "buffer = pd.read_csv(\"Shopping_site.csv\")\n",
    "print(buffer)\n",
    "        "
   ]
  },
  {
   "cell_type": "code",
   "execution_count": null,
   "metadata": {},
   "outputs": [],
   "source": []
  }
 ],
 "metadata": {
  "kernelspec": {
   "display_name": "Python 3",
   "language": "python",
   "name": "python3"
  },
  "language_info": {
   "codemirror_mode": {
    "name": "ipython",
    "version": 3
   },
   "file_extension": ".py",
   "mimetype": "text/x-python",
   "name": "python",
   "nbconvert_exporter": "python",
   "pygments_lexer": "ipython3",
   "version": "3.8.5"
  }
 },
 "nbformat": 4,
 "nbformat_minor": 4
}
