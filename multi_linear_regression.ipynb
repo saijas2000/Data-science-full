{
 "cells": [
  {
   "cell_type": "markdown",
   "metadata": {},
   "source": [
    "# Importing all the libraries"
   ]
  },
  {
   "cell_type": "code",
   "execution_count": 1,
   "metadata": {},
   "outputs": [],
   "source": [
    "import numpy as np\n",
    "import pandas as pd"
   ]
  },
  {
   "cell_type": "code",
   "execution_count": 2,
   "metadata": {},
   "outputs": [],
   "source": [
    "X = pd.read_csv(\"Downloads/Train.csv\")\n",
    "Y = X[\"target\"]\n",
    "X = X.drop([\"target\"],axis = 1)\n",
    "X = X.values\n",
    "Y = Y.values\n"
   ]
  },
  {
   "cell_type": "markdown",
   "metadata": {},
   "source": [
    "# Normalising The data"
   ]
  },
  {
   "cell_type": "code",
   "execution_count": 3,
   "metadata": {},
   "outputs": [],
   "source": [
    "#u = np.mean(X,axis=0)\n",
    "#std = np.std(X,axis=0)\n",
    "#X = (X-u)/std"
   ]
  },
  {
   "cell_type": "markdown",
   "metadata": {},
   "source": [
    "# adding the intercept term for polynomial regression"
   ]
  },
  {
   "cell_type": "code",
   "execution_count": 4,
   "metadata": {},
   "outputs": [],
   "source": [
    "ones = np.ones((X.shape[0],1))\n",
    "X = np.hstack((ones,X))"
   ]
  },
  {
   "cell_type": "markdown",
   "metadata": {},
   "source": [
    "# writing the code for polynomial regression"
   ]
  },
  {
   "cell_type": "code",
   "execution_count": 5,
   "metadata": {},
   "outputs": [],
   "source": [
    "def hypothesis(X,theta):\n",
    "    a = np.dot(X,theta)\n",
    "    return a\n"
   ]
  },
  {
   "cell_type": "code",
   "execution_count": 6,
   "metadata": {},
   "outputs": [],
   "source": [
    "def loss_function(X,Y,theta):\n",
    "    y_hat = np.dot(X,theta)\n",
    "    error = np.sum((Y-y_hat)**2)\n",
    "    m = X.shape[0]\n",
    "    return error/m"
   ]
  },
  {
   "cell_type": "code",
   "execution_count": 7,
   "metadata": {},
   "outputs": [],
   "source": [
    "def gradient(X,Y,theta):\n",
    "    y_hat = np.dot(X,theta)\n",
    "    grad  = np.dot(X.T,(y_hat-Y))\n",
    "    m = X.shape[0]\n",
    "    return grad/m\n",
    "    "
   ]
  },
  {
   "cell_type": "code",
   "execution_count": 8,
   "metadata": {},
   "outputs": [],
   "source": [
    "def gradient_descent(X,Y,lr = 0.01):\n",
    "    theta = np.zeros((X.shape[1],))\n",
    "    print(theta.shape)\n",
    "    prev_loss = np.inf\n",
    "    curr_loss = 0\n",
    "    while prev_loss>curr_loss:\n",
    "        prev_loss = loss_function(X,Y,theta)\n",
    "        theta = theta-lr*gradient(X,Y,theta)\n",
    "        curr_loss = loss_function(X,Y,theta)\n",
    "    return theta"
   ]
  },
  {
   "cell_type": "code",
   "execution_count": 9,
   "metadata": {},
   "outputs": [
    {
     "name": "stdout",
     "output_type": "stream",
     "text": [
      "(6,)\n"
     ]
    }
   ],
   "source": [
    "theta = gradient_descent(X,Y,lr = 0.01)\n"
   ]
  },
  {
   "cell_type": "markdown",
   "metadata": {},
   "source": [
    "# Predicting for the loss function"
   ]
  },
  {
   "cell_type": "code",
   "execution_count": 10,
   "metadata": {},
   "outputs": [],
   "source": [
    "test = pd.read_csv(\"Downloads/Test.csv\")\n",
    "test = test.values"
   ]
  },
  {
   "cell_type": "code",
   "execution_count": 11,
   "metadata": {},
   "outputs": [],
   "source": [
    "ones = np.ones((test.shape[0],1))\n",
    "test = np.hstack((ones,test))"
   ]
  },
  {
   "cell_type": "code",
   "execution_count": 12,
   "metadata": {},
   "outputs": [
    {
     "name": "stdout",
     "output_type": "stream",
     "text": [
      "      Id      target\n",
      "0      0  114.583689\n",
      "1      1  118.012812\n",
      "2      2  -21.739852\n",
      "3      3  -43.936898\n",
      "4      4  -95.914900\n",
      "..   ...         ...\n",
      "395  395  -81.988999\n",
      "396  396 -186.032536\n",
      "397  397  125.292335\n",
      "398  398   65.369839\n",
      "399  399   57.059689\n",
      "\n",
      "[400 rows x 2 columns]\n"
     ]
    }
   ],
   "source": [
    "import csv\n",
    "y_predicted = hypothesis(test,theta)\n",
    "with open(\"Air_pollution.csv\",\"w\") as f:\n",
    "    csv_writer = csv.writer(f)\n",
    "    header = [\"Id\",\"target\"]\n",
    "    csv_writer.writerow(header)\n",
    "    for i in range(y_predicted.shape[0]):\n",
    "        csv_writer.writerow([str(i),str(y_predicted[i])])\n",
    "output = pd.read_csv(\"Air_pollution.csv\")\n",
    "print(output)\n"
   ]
  },
  {
   "cell_type": "code",
   "execution_count": null,
   "metadata": {},
   "outputs": [],
   "source": []
  }
 ],
 "metadata": {
  "kernelspec": {
   "display_name": "Python 3",
   "language": "python",
   "name": "python3"
  },
  "language_info": {
   "codemirror_mode": {
    "name": "ipython",
    "version": 3
   },
   "file_extension": ".py",
   "mimetype": "text/x-python",
   "name": "python",
   "nbconvert_exporter": "python",
   "pygments_lexer": "ipython3",
   "version": "3.8.5"
  }
 },
 "nbformat": 4,
 "nbformat_minor": 4
}
