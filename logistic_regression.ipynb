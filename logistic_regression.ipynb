{
 "cells": [
  {
   "cell_type": "markdown",
   "metadata": {},
   "source": [
    "# importing all the libraries"
   ]
  },
  {
   "cell_type": "code",
   "execution_count": 1,
   "metadata": {},
   "outputs": [],
   "source": [
    "import numpy as np\n",
    "import pandas as pd"
   ]
  },
  {
   "cell_type": "markdown",
   "metadata": {},
   "source": [
    "# Getting the Training data"
   ]
  },
  {
   "cell_type": "code",
   "execution_count": 2,
   "metadata": {},
   "outputs": [
    {
     "data": {
      "text/html": [
       "<div>\n",
       "<style scoped>\n",
       "    .dataframe tbody tr th:only-of-type {\n",
       "        vertical-align: middle;\n",
       "    }\n",
       "\n",
       "    .dataframe tbody tr th {\n",
       "        vertical-align: top;\n",
       "    }\n",
       "\n",
       "    .dataframe thead th {\n",
       "        text-align: right;\n",
       "    }\n",
       "</style>\n",
       "<table border=\"1\" class=\"dataframe\">\n",
       "  <thead>\n",
       "    <tr style=\"text-align: right;\">\n",
       "      <th></th>\n",
       "      <th>f1</th>\n",
       "      <th>f2</th>\n",
       "      <th>f3</th>\n",
       "    </tr>\n",
       "  </thead>\n",
       "  <tbody>\n",
       "    <tr>\n",
       "      <th>0</th>\n",
       "      <td>-1.239375</td>\n",
       "      <td>0.749101</td>\n",
       "      <td>-0.528515</td>\n",
       "    </tr>\n",
       "    <tr>\n",
       "      <th>1</th>\n",
       "      <td>-1.036070</td>\n",
       "      <td>0.801436</td>\n",
       "      <td>-1.283712</td>\n",
       "    </tr>\n",
       "    <tr>\n",
       "      <th>2</th>\n",
       "      <td>-0.615579</td>\n",
       "      <td>1.579521</td>\n",
       "      <td>-1.391927</td>\n",
       "    </tr>\n",
       "    <tr>\n",
       "      <th>3</th>\n",
       "      <td>1.335978</td>\n",
       "      <td>1.348651</td>\n",
       "      <td>1.433564</td>\n",
       "    </tr>\n",
       "    <tr>\n",
       "      <th>4</th>\n",
       "      <td>0.658925</td>\n",
       "      <td>1.300019</td>\n",
       "      <td>0.571603</td>\n",
       "    </tr>\n",
       "    <tr>\n",
       "      <th>5</th>\n",
       "      <td>0.656532</td>\n",
       "      <td>0.991440</td>\n",
       "      <td>0.870280</td>\n",
       "    </tr>\n",
       "    <tr>\n",
       "      <th>6</th>\n",
       "      <td>1.453978</td>\n",
       "      <td>0.583741</td>\n",
       "      <td>1.277378</td>\n",
       "    </tr>\n",
       "    <tr>\n",
       "      <th>7</th>\n",
       "      <td>1.124756</td>\n",
       "      <td>1.116124</td>\n",
       "      <td>1.442579</td>\n",
       "    </tr>\n",
       "    <tr>\n",
       "      <th>8</th>\n",
       "      <td>-1.723841</td>\n",
       "      <td>-0.175289</td>\n",
       "      <td>-0.588835</td>\n",
       "    </tr>\n",
       "    <tr>\n",
       "      <th>9</th>\n",
       "      <td>-0.794138</td>\n",
       "      <td>1.958963</td>\n",
       "      <td>-0.270497</td>\n",
       "    </tr>\n",
       "  </tbody>\n",
       "</table>\n",
       "</div>"
      ],
      "text/plain": [
       "         f1        f2        f3\n",
       "0 -1.239375  0.749101 -0.528515\n",
       "1 -1.036070  0.801436 -1.283712\n",
       "2 -0.615579  1.579521 -1.391927\n",
       "3  1.335978  1.348651  1.433564\n",
       "4  0.658925  1.300019  0.571603\n",
       "5  0.656532  0.991440  0.870280\n",
       "6  1.453978  0.583741  1.277378\n",
       "7  1.124756  1.116124  1.442579\n",
       "8 -1.723841 -0.175289 -0.588835\n",
       "9 -0.794138  1.958963 -0.270497"
      ]
     },
     "execution_count": 2,
     "metadata": {},
     "output_type": "execute_result"
    }
   ],
   "source": [
    "X = pd.read_csv(\"Downloads/Logistic_X_Train.csv\")\n",
    "Y = pd.read_csv(\"Downloads/Logistic_Y_Train.csv\")\n",
    "X.head(n=10)"
   ]
  },
  {
   "cell_type": "code",
   "execution_count": 3,
   "metadata": {},
   "outputs": [],
   "source": [
    "X = X.values\n",
    "Y = Y.values"
   ]
  },
  {
   "cell_type": "markdown",
   "metadata": {},
   "source": [
    "# Defining Logistic regression class"
   ]
  },
  {
   "cell_type": "code",
   "execution_count": 4,
   "metadata": {},
   "outputs": [],
   "source": [
    "class logistic_regression:\n",
    "    \n",
    "    def __init__(self):\n",
    "        print(\"logistic_regression_class_is_intiated\")\n",
    "    \n",
    "    def sigmoid(self,x):\n",
    "        return 1.0/(1.0+np.exp(-(x)))\n",
    "    \n",
    "    \n",
    "    def fit(self,X,Y,lr = 0.5):\n",
    "        self.x = X\n",
    "        self.y = Y\n",
    "        self.theta = np.zeros((X.shape[1],1))\n",
    "        \n",
    "        print(self.x.shape,self.y.shape,self.theta.shape)\n",
    "        error_list = []\n",
    "        \n",
    "        prev_loss = np.inf\n",
    "        \n",
    "        curr_loss = 0\n",
    "        \n",
    "        while prev_loss>curr_loss:\n",
    "            error_list.append(self.error())\n",
    "            prev_loss = self.error()\n",
    "            grad = self.gradient()\n",
    "            self.theta = self.theta+lr*grad\n",
    "            curr_loss = self.error()\n",
    "            #print(curr_loss.shape)\n",
    "        return self.theta,error_list\n",
    "        \n",
    "    \n",
    "    def hypothesis(self):\n",
    "        a = np.dot(self.x,self.theta)\n",
    "       # print(a.shape)\n",
    "        return self.sigmoid(a)\n",
    "    \n",
    "    def error(self):\n",
    "        y_hat = self.hypothesis()\n",
    "        #print(y_hat.shape)\n",
    "        error = np.sum((self.y*np.log(y_hat))+((1-self.y)*np.log(1-y_hat)))\n",
    "        m = self.x.shape[0]\n",
    "        error = -1*error\n",
    "        return error/m\n",
    "    \n",
    "    def gradient(self):\n",
    "        hi = self.hypothesis()\n",
    "        grad = np.dot(self.x.T,(self.y-hi))\n",
    "        m = self.x.shape[0]\n",
    "        return grad/m\n",
    "    \n",
    "   "
   ]
  },
  {
   "cell_type": "code",
   "execution_count": 5,
   "metadata": {},
   "outputs": [
    {
     "name": "stdout",
     "output_type": "stream",
     "text": [
      "logistic_regression_class_is_intiated\n"
     ]
    }
   ],
   "source": [
    "model = logistic_regression()\n",
    "ones = np.ones((X.shape[0],1))\n",
    "X = np.hstack((ones,X))"
   ]
  },
  {
   "cell_type": "code",
   "execution_count": 6,
   "metadata": {},
   "outputs": [
    {
     "name": "stdout",
     "output_type": "stream",
     "text": [
      "(3000, 4) (3000, 1) (4, 1)\n"
     ]
    }
   ],
   "source": [
    "theta,error = model.fit(X,Y)"
   ]
  },
  {
   "cell_type": "code",
   "execution_count": 7,
   "metadata": {},
   "outputs": [
    {
     "data": {
      "image/png": "[encoded data removed]",
      "text/plain": [
       "<Figure size 432x288 with 1 Axes>"
      ]
     },
     "metadata": {
      "needs_background": "light"
     },
     "output_type": "display_data"
    }
   ],
   "source": [
    "import matplotlib.pyplot as plt\n",
    "plt.plot(error)\n",
    "plt.show()"
   ]
  },
  {
   "cell_type": "markdown",
   "metadata": {},
   "source": [
    "# Getting the testing Data set"
   ]
  },
  {
   "cell_type": "code",
   "execution_count": 10,
   "metadata": {},
   "outputs": [],
   "source": [
    "test = pd.read_csv(\"Downloads/Logistic_X_Test.csv\")\n",
    "test = test.values\n",
    "ones = np.ones((test.shape[0],1))\n",
    "test = np.hstack((ones,test))"
   ]
  },
  {
   "cell_type": "code",
   "execution_count": 15,
   "metadata": {},
   "outputs": [],
   "source": [
    "def test_output_predict(test,theta):\n",
    "    return model.sigmoid(np.dot(test,theta))"
   ]
  },
  {
   "cell_type": "code",
   "execution_count": 21,
   "metadata": {},
   "outputs": [],
   "source": [
    "import csv\n",
    "with open(\"logistic_regression.csv\",\"w\") as f:\n",
    "    csv_writer = csv.writer(f)\n",
    "    header  = [\"label\"]\n",
    "    csv_writer.writerow(header)\n",
    "    output = test_output_predict(test,theta)\n",
    "    output[output>=0.5]= 1\n",
    "    output[output<0.5] = 0\n",
    "    output = output.astype('int')\n",
    "    csv_writer.writerows(output)"
   ]
  },
  {
   "cell_type": "code",
   "execution_count": 23,
   "metadata": {},
   "outputs": [
    {
     "name": "stdout",
     "output_type": "stream",
     "text": [
      "     label\n",
      "0        1\n",
      "1        1\n",
      "2        0\n",
      "3        1\n",
      "4        1\n",
      "..     ...\n",
      "995      0\n",
      "996      0\n",
      "997      1\n",
      "998      1\n",
      "999      0\n",
      "\n",
      "[1000 rows x 1 columns]\n"
     ]
    }
   ],
   "source": [
    "output = pd.read_csv(\"logistic_regression.csv\")\n",
    "print(output)"
   ]
  },
  {
   "cell_type": "code",
   "execution_count": null,
   "metadata": {},
   "outputs": [],
   "source": []
  }
 ],
 "metadata": {
  "kernelspec": {
   "display_name": "Python 3",
   "language": "python",
   "name": "python3"
  },
  "language_info": {
   "codemirror_mode": {
    "name": "ipython",
    "version": 3
   },
   "file_extension": ".py",
   "mimetype": "text/x-python",
   "name": "python",
   "nbconvert_exporter": "python",
   "pygments_lexer": "ipython3",
   "version": "3.8.5"
  }
 },
 "nbformat": 4,
 "nbformat_minor": 4
}
