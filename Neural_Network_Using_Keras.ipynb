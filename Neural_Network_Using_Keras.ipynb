{
  "cells": [
    {
      "cell_type": "markdown",
      "metadata": {
        "id": "view-in-github",
        "colab_type": "text"
      },
      "source": [
        "<a href=\"https://colab.research.google.com/github/saijas2000/Data-science-full/blob/main/Neural_Network_Using_Keras.ipynb\" target=\"_parent\"><img src=\"https://colab.research.google.com/assets/colab-badge.svg\" alt=\"Open In Colab\"/></a>"
      ]
    },
    {
      "cell_type": "markdown",
      "metadata": {
        "id": "vVKppJ6wFoB5"
      },
      "source": [
        "# Importing all the libraries"
      ]
    },
    {
      "cell_type": "code",
      "execution_count": 1,
      "metadata": {
        "id": "vucWbfT5FoB8"
      },
      "outputs": [],
      "source": [
        "import numpy as np\n",
        "import pandas as pd\n"
      ]
    },
    {
      "cell_type": "markdown",
      "metadata": {
        "id": "q5_aTLLvFoB9"
      },
      "source": [
        "# Neural Network Implementation using Keras"
      ]
    },
    {
      "cell_type": "code",
      "execution_count": 2,
      "metadata": {
        "colab": {
          "base_uri": "https://localhost:8080/"
        },
        "id": "uOaS4xaUFoB-",
        "outputId": "f720f5e0-53af-4b56-9391-77a88884fe26"
      },
      "outputs": [
        {
          "output_type": "stream",
          "name": "stdout",
          "text": [
            "Requirement already satisfied: keras in /usr/local/lib/python3.7/dist-packages (2.7.0)\n"
          ]
        }
      ],
      "source": [
        "!pip install keras"
      ]
    },
    {
      "cell_type": "code",
      "execution_count": 3,
      "metadata": {
        "id": "54rnVK05FoB_"
      },
      "outputs": [],
      "source": [
        "from tensorflow import keras\n"
      ]
    },
    {
      "cell_type": "code",
      "execution_count": 4,
      "metadata": {
        "id": "S1ACjdWtFoB_"
      },
      "outputs": [],
      "source": [
        "model = keras.models.Sequential()\n",
        "model.add(keras.layers.Dense(8,activation=\"relu\",input_dim=2))\n",
        "model.add(keras.layers.Dense(7,activation=\"relu\"))\n",
        "model.add(keras.layers.Dense(1,activation=\"sigmoid\"))"
      ]
    },
    {
      "cell_type": "code",
      "execution_count": 5,
      "metadata": {
        "id": "gQWsTaRFFoCA"
      },
      "outputs": [],
      "source": [
        "model.compile(loss='binary_crossentropy', optimizer='adam', metrics=['accuracy'])"
      ]
    },
    {
      "cell_type": "code",
      "execution_count": 6,
      "metadata": {
        "id": "Z_rOkCVKFoCA"
      },
      "outputs": [],
      "source": [
        "X = pd.read_csv(\"Logistic_X_Train.csv\")\n",
        "Y = pd.read_csv(\"Logistic_Y_Train.csv\")"
      ]
    },
    {
      "cell_type": "code",
      "execution_count": 7,
      "metadata": {
        "colab": {
          "base_uri": "https://localhost:8080/"
        },
        "id": "oL_yZT9fFoCB",
        "outputId": "e9881a86-65b6-432a-fad9-84f835eb8ef9"
      },
      "outputs": [
        {
          "output_type": "stream",
          "name": "stdout",
          "text": [
            "Epoch 1/30\n",
            "71/71 [==============================] - 1s 4ms/step - loss: 0.6900 - accuracy: 0.5467\n",
            "Epoch 2/30\n",
            "71/71 [==============================] - 0s 5ms/step - loss: 0.6141 - accuracy: 0.8049\n",
            "Epoch 3/30\n",
            "71/71 [==============================] - 0s 5ms/step - loss: 0.5495 - accuracy: 0.8169\n",
            "Epoch 4/30\n",
            "71/71 [==============================] - 0s 4ms/step - loss: 0.4673 - accuracy: 0.8360\n",
            "Epoch 5/30\n",
            "71/71 [==============================] - 0s 4ms/step - loss: 0.3979 - accuracy: 0.8471\n",
            "Epoch 6/30\n",
            "71/71 [==============================] - 0s 4ms/step - loss: 0.3530 - accuracy: 0.8538\n",
            "Epoch 7/30\n",
            "71/71 [==============================] - 0s 4ms/step - loss: 0.3276 - accuracy: 0.8596\n",
            "Epoch 8/30\n",
            "71/71 [==============================] - 0s 4ms/step - loss: 0.3133 - accuracy: 0.8600\n",
            "Epoch 9/30\n",
            "71/71 [==============================] - 0s 4ms/step - loss: 0.3039 - accuracy: 0.8644\n",
            "Epoch 10/30\n",
            "71/71 [==============================] - 0s 4ms/step - loss: 0.2942 - accuracy: 0.8649\n",
            "Epoch 11/30\n",
            "71/71 [==============================] - 0s 7ms/step - loss: 0.2831 - accuracy: 0.8716\n",
            "Epoch 12/30\n",
            "71/71 [==============================] - 1s 7ms/step - loss: 0.2718 - accuracy: 0.8764\n",
            "Epoch 13/30\n",
            "71/71 [==============================] - 0s 7ms/step - loss: 0.2622 - accuracy: 0.8853\n",
            "Epoch 14/30\n",
            "71/71 [==============================] - 1s 7ms/step - loss: 0.2547 - accuracy: 0.8884\n",
            "Epoch 15/30\n",
            "71/71 [==============================] - 1s 7ms/step - loss: 0.2473 - accuracy: 0.8938\n",
            "Epoch 16/30\n",
            "71/71 [==============================] - 1s 8ms/step - loss: 0.2410 - accuracy: 0.8982\n",
            "Epoch 17/30\n",
            "71/71 [==============================] - 1s 7ms/step - loss: 0.2344 - accuracy: 0.9004\n",
            "Epoch 18/30\n",
            "71/71 [==============================] - 1s 8ms/step - loss: 0.2286 - accuracy: 0.8996\n",
            "Epoch 19/30\n",
            "71/71 [==============================] - 1s 8ms/step - loss: 0.2225 - accuracy: 0.9044\n",
            "Epoch 20/30\n",
            "71/71 [==============================] - 1s 8ms/step - loss: 0.2170 - accuracy: 0.9098\n",
            "Epoch 21/30\n",
            "71/71 [==============================] - 1s 7ms/step - loss: 0.2116 - accuracy: 0.9147\n",
            "Epoch 22/30\n",
            "71/71 [==============================] - 1s 7ms/step - loss: 0.2065 - accuracy: 0.9187\n",
            "Epoch 23/30\n",
            "71/71 [==============================] - 0s 6ms/step - loss: 0.2027 - accuracy: 0.9182\n",
            "Epoch 24/30\n",
            "71/71 [==============================] - 1s 7ms/step - loss: 0.1976 - accuracy: 0.9213\n",
            "Epoch 25/30\n",
            "71/71 [==============================] - 1s 9ms/step - loss: 0.1933 - accuracy: 0.9240\n",
            "Epoch 26/30\n",
            "71/71 [==============================] - 1s 7ms/step - loss: 0.1887 - accuracy: 0.9267\n",
            "Epoch 27/30\n",
            "71/71 [==============================] - 1s 7ms/step - loss: 0.1846 - accuracy: 0.9276\n",
            "Epoch 28/30\n",
            "71/71 [==============================] - 0s 7ms/step - loss: 0.1811 - accuracy: 0.9298\n",
            "Epoch 29/30\n",
            "71/71 [==============================] - 1s 8ms/step - loss: 0.1771 - accuracy: 0.9311\n",
            "Epoch 30/30\n",
            "71/71 [==============================] - 1s 9ms/step - loss: 0.1742 - accuracy: 0.9307\n"
          ]
        },
        {
          "output_type": "execute_result",
          "data": {
            "text/plain": [
              "<keras.callbacks.History at 0x7ff410165490>"
            ]
          },
          "metadata": {},
          "execution_count": 7
        }
      ],
      "source": [
        "model.fit(X,Y,epochs = 30)"
      ]
    },
    {
      "cell_type": "code",
      "execution_count": 8,
      "metadata": {
        "colab": {
          "base_uri": "https://localhost:8080/"
        },
        "id": "IMRmxGDjFoCC",
        "outputId": "ab6ac50d-4a10-4809-aa2f-7b1ef7b47f95"
      },
      "outputs": [
        {
          "output_type": "stream",
          "name": "stdout",
          "text": [
            "[[-0.79982686 -0.00383313]\n",
            " [-0.7577847   1.0313704 ]\n",
            " [ 1.0368084  -0.3570041 ]\n",
            " ...\n",
            " [ 0.91472363  0.51784855]\n",
            " [-0.8132619   0.6511149 ]\n",
            " [-0.54779714  0.15991242]]\n"
          ]
        }
      ],
      "source": [
        "X_test = pd.read_csv(\"Logistic_X_Test.csv\")\n",
        "X_test = X_test.to_numpy(dtype='float32')\n",
        "print(X_test)"
      ]
    },
    {
      "cell_type": "code",
      "execution_count": 9,
      "metadata": {
        "colab": {
          "base_uri": "https://localhost:8080/"
        },
        "id": "ZRwKEb8WFoCC",
        "outputId": "433c1671-8122-4b75-d95d-8ca4b664b247"
      },
      "outputs": [
        {
          "output_type": "stream",
          "name": "stdout",
          "text": [
            "(2,)\n",
            "750\n"
          ]
        }
      ],
      "source": [
        "import csv\n",
        "with open(\"output.csv\",\"w\") as f:\n",
        "    csv_writer = csv.writer(f)\n",
        "    header = [\"label\"]\n",
        "    csv_writer.writerow(header)\n",
        "    print(X_test[0].shape)\n",
        "    print(len(X_test))\n",
        "    for i in range(len(X_test)):\n",
        "        buf = model.predict(X_test[i].reshape(1,2))\n",
        "        if buf>0.51:\n",
        "            csv_writer.writerow(\"1\")\n",
        "        else:\n",
        "            csv_writer.writerow(\"0\")"
      ]
    },
    {
      "cell_type": "code",
      "execution_count": 10,
      "metadata": {
        "colab": {
          "base_uri": "https://localhost:8080/"
        },
        "id": "-o3LT_l1FoCD",
        "outputId": "1d1b7ce9-e7d3-4c84-a761-0ce49273e88e"
      },
      "outputs": [
        {
          "output_type": "stream",
          "name": "stdout",
          "text": [
            "     label\n",
            "0        0\n",
            "1        0\n",
            "2        1\n",
            "3        0\n",
            "4        1\n",
            "..     ...\n",
            "745      0\n",
            "746      1\n",
            "747      0\n",
            "748      0\n",
            "749      0\n",
            "\n",
            "[750 rows x 1 columns]\n"
          ]
        }
      ],
      "source": [
        "out = pd.read_csv('output.csv')\n",
        "print(out)"
      ]
    },
    {
      "cell_type": "code",
      "execution_count": 10,
      "metadata": {
        "id": "UEltXKGVFoCD"
      },
      "outputs": [],
      "source": [
        ""
      ]
    }
  ],
  "metadata": {
    "kernelspec": {
      "display_name": "Python 3",
      "language": "python",
      "name": "python3"
    },
    "language_info": {
      "codemirror_mode": {
        "name": "ipython",
        "version": 3
      },
      "file_extension": ".py",
      "mimetype": "text/x-python",
      "name": "python",
      "nbconvert_exporter": "python",
      "pygments_lexer": "ipython3",
      "version": "3.8.5"
    },
    "colab": {
      "name": "Neural_Network_Using_Keras.ipynb",
      "provenance": [],
      "include_colab_link": true
    },
    "accelerator": "GPU"
  },
  "nbformat": 4,
  "nbformat_minor": 0
}