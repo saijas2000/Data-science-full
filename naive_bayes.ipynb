{
  "nbformat": 4,
  "nbformat_minor": 0,
  "metadata": {
    "colab": {
      "name": "naive_bayes.ipynb",
      "provenance": []
    },
    "kernelspec": {
      "name": "python3",
      "display_name": "Python 3"
    },
    "language_info": {
      "name": "python"
    },
    "accelerator": "GPU"
  },
  "cells": [
    {
      "cell_type": "code",
      "execution_count": 1,
      "metadata": {
        "id": "aWxG2VoHC2ya"
      },
      "outputs": [],
      "source": [
        "#!/usr/bin/env python\n",
        "# coding: utf-8\n",
        "\n",
        "# # Getting the dataset\n",
        "\n",
        "# In[1]:\n",
        "\n",
        "\n",
        "import numpy as np\n",
        "import pandas as pd\n",
        "\n",
        "\n",
        "\n",
        "\n",
        "\n",
        "\n",
        "\n",
        "\n",
        "\n",
        "# In[2]:\n",
        "\n",
        "\n",
        "\n",
        "\n",
        "# # Cleaning The text\n",
        "\n",
        "# In[3]:\n",
        "\n",
        "\n",
        "\n",
        "\n",
        "\n",
        "# In[4]:\n",
        "\n",
        "\n",
        "\n",
        "\n",
        "\n",
        "# In[5]:\n",
        "\n",
        "\n",
        "\n",
        "\n",
        "\n",
        "\n",
        "\n",
        "# In[ ]:\n",
        "\n",
        "\n",
        "\n",
        "\n"
      ]
    },
    {
      "cell_type": "code",
      "source": [
        ""
      ],
      "metadata": {
        "id": "UHinBpFXUGS7"
      },
      "execution_count": 1,
      "outputs": []
    },
    {
      "cell_type": "code",
      "source": [
        "import nltk\n",
        "nltk.download('stopwords')"
      ],
      "metadata": {
        "colab": {
          "base_uri": "https://localhost:8080/"
        },
        "id": "kX5V7ggwTspO",
        "outputId": "587c9bdc-fbbe-4d18-c430-54d6de434f0f"
      },
      "execution_count": 2,
      "outputs": [
        {
          "output_type": "stream",
          "name": "stdout",
          "text": [
            "[nltk_data] Downloading package stopwords to /root/nltk_data...\n",
            "[nltk_data]   Package stopwords is already up-to-date!\n"
          ]
        },
        {
          "output_type": "execute_result",
          "data": {
            "text/plain": [
              "True"
            ]
          },
          "metadata": {},
          "execution_count": 2
        }
      ]
    },
    {
      "cell_type": "code",
      "source": [
        "\n",
        "df = pd.read_csv(\"Train.csv\")\n",
        "Y = df[\"label\"]\n",
        "X = df[\"review\"]\n",
        "X = list(X)\n"
      ],
      "metadata": {
        "id": "2ltTx5W7GCfu"
      },
      "execution_count": 3,
      "outputs": []
    },
    {
      "cell_type": "code",
      "source": [
        ""
      ],
      "metadata": {
        "id": "eKnDWFF2azsI"
      },
      "execution_count": 3,
      "outputs": []
    },
    {
      "cell_type": "code",
      "source": [
        "df_test = pd.read_csv(\"Test.csv\")\n",
        "X_test = list(df_test.review)"
      ],
      "metadata": {
        "id": "H3SHaoS_ar6N"
      },
      "execution_count": 4,
      "outputs": []
    },
    {
      "cell_type": "code",
      "source": [
        "from nltk.tokenize import RegexpTokenizer\n",
        "from nltk.stem.porter import PorterStemmer\n",
        "from nltk.corpus import stopwords"
      ],
      "metadata": {
        "id": "zbAokZICT01B"
      },
      "execution_count": 5,
      "outputs": []
    },
    {
      "cell_type": "code",
      "source": [
        "tokenizer = RegexpTokenizer(r'\\w+')\n",
        "en_stopwords = set(stopwords.words('english'))\n",
        "ps = PorterStemmer()"
      ],
      "metadata": {
        "id": "ik2P21pOT9ol"
      },
      "execution_count": 6,
      "outputs": []
    },
    {
      "cell_type": "code",
      "source": [
        "\n",
        "def getreview(review):\n",
        "    \n",
        "    review = review.lower()\n",
        "    review = review.replace(\"<br /><br />\",' ')\n",
        "    tokens = tokenizer.tokenize(review)\n",
        "    new_tokens = [token for token in tokens if token not in en_stopwords]\n",
        "    stemmed_tokens = [ps.stem(token) for token in tokens]\n",
        "    cleaned_review = ' '.join(stemmed_tokens)\n",
        "    return cleaned_review"
      ],
      "metadata": {
        "id": "JqAb1AIzT-Ve"
      },
      "execution_count": 7,
      "outputs": []
    },
    {
      "cell_type": "code",
      "source": [
        "\n",
        "X = [getreview(review) for review in X]\n",
        "X_test = [getreview(review) for review in X_test]"
      ],
      "metadata": {
        "id": "w6krxhnWUIWS"
      },
      "execution_count": 8,
      "outputs": []
    },
    {
      "cell_type": "code",
      "source": [
        "\n",
        "# # vectorizing the tokens\n",
        "\n",
        "# In[7]:\n",
        "\n",
        "\n",
        "from sklearn.feature_extraction.text import CountVectorizer\n",
        "\n",
        "\n",
        "# # Multinomial Naive Bayes\n",
        "\n",
        "# In[ ]:\n",
        "\n",
        "\n"
      ],
      "metadata": {
        "id": "igAFRDhxUJA6"
      },
      "execution_count": 9,
      "outputs": []
    },
    {
      "cell_type": "code",
      "source": [
        "cv = CountVectorizer(ngram_range = (1,2))\n",
        "\n",
        "\n"
      ],
      "metadata": {
        "id": "17VmpepTb7-w"
      },
      "execution_count": 10,
      "outputs": []
    },
    {
      "cell_type": "code",
      "source": [
        "x_vec = cv.fit_transform(X)"
      ],
      "metadata": {
        "id": "QYAw4KQSddn8"
      },
      "execution_count": 11,
      "outputs": []
    },
    {
      "cell_type": "code",
      "source": [
        "x_test = cv.transform(X_test)"
      ],
      "metadata": {
        "id": "8EbapWw_cNuf"
      },
      "execution_count": 12,
      "outputs": []
    },
    {
      "cell_type": "code",
      "source": [
        "from sklearn.naive_bayes import MultinomialNB\n",
        "mnb = MultinomialNB()\n",
        "mnb.fit(x_vec,Y)\n"
      ],
      "metadata": {
        "colab": {
          "base_uri": "https://localhost:8080/"
        },
        "id": "-RBXzaueb-dK",
        "outputId": "ddc04fbb-128f-431a-ad3c-eeba9bdfe5d3"
      },
      "execution_count": 14,
      "outputs": [
        {
          "output_type": "execute_result",
          "data": {
            "text/plain": [
              "array(['neg', 'neg', 'neg', ..., 'pos', 'pos', 'neg'], dtype='<U3')"
            ]
          },
          "metadata": {},
          "execution_count": 14
        }
      ]
    },
    {
      "cell_type": "code",
      "source": [
        "pred = mnb.predict(x_test)\n",
        "f = pd.DataFrame(pred,columns = ['label'])\n",
        "f['Id'] = np.arange(10000)\n",
        "f = f[[]]\n",
        "f.to_csv('MovieReview.csv',index = False)"
      ],
      "metadata": {
        "id": "4_3-cbs8f-sU"
      },
      "execution_count": 17,
      "outputs": []
    },
    {
      "cell_type": "code",
      "source": [
        "print(f)"
      ],
      "metadata": {
        "colab": {
          "base_uri": "https://localhost:8080/"
        },
        "id": "niDXTX4XgR6a",
        "outputId": "2fbde4db-5451-4855-c696-b42f3d0e8c01"
      },
      "execution_count": 18,
      "outputs": [
        {
          "output_type": "stream",
          "name": "stdout",
          "text": [
            "        Id label\n",
            "0        0   neg\n",
            "1        1   neg\n",
            "2        2   neg\n",
            "3        3   pos\n",
            "4        4   pos\n",
            "...    ...   ...\n",
            "9995  9995   neg\n",
            "9996  9996   pos\n",
            "9997  9997   pos\n",
            "9998  9998   pos\n",
            "9999  9999   neg\n",
            "\n",
            "[10000 rows x 2 columns]\n"
          ]
        }
      ]
    }
  ]
}