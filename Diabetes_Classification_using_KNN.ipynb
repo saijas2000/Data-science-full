{
 "cells": [
  {
   "cell_type": "markdown",
   "metadata": {},
   "source": [
    "# Importing all the libraries\n"
   ]
  },
  {
   "cell_type": "code",
   "execution_count": 1,
   "metadata": {},
   "outputs": [],
   "source": [
    "import pandas as pd\n",
    "import numpy as np\n",
    "import matplotlib.pyplot as plt"
   ]
  },
  {
   "cell_type": "markdown",
   "metadata": {},
   "source": [
    "# Getting the data Set"
   ]
  },
  {
   "cell_type": "code",
   "execution_count": 2,
   "metadata": {},
   "outputs": [],
   "source": [
    "X = pd.read_csv(\"Downloads/Diabetes_Xtrain.csv\")\n",
    "Y = pd.read_csv(\"Downloads/Diabetes_Ytrain.csv\")"
   ]
  },
  {
   "cell_type": "markdown",
   "metadata": {},
   "source": [
    "# Normalising the data"
   ]
  },
  {
   "cell_type": "code",
   "execution_count": 3,
   "metadata": {},
   "outputs": [],
   "source": [
    "from sklearn import preprocessing as ppg\n",
    "#normalising the data has not given much useful results. \n"
   ]
  },
  {
   "cell_type": "code",
   "execution_count": 4,
   "metadata": {},
   "outputs": [],
   "source": [
    "X = X.values"
   ]
  },
  {
   "cell_type": "code",
   "execution_count": 5,
   "metadata": {},
   "outputs": [],
   "source": [
    "Y = Y.values"
   ]
  },
  {
   "cell_type": "markdown",
   "metadata": {},
   "source": [
    "# defining KNN Class"
   ]
  },
  {
   "cell_type": "code",
   "execution_count": 6,
   "metadata": {},
   "outputs": [],
   "source": [
    "class KNN:\n",
    "    def __init__(self,k=5):\n",
    "        self.k = k\n",
    "        \n",
    "        \n",
    "    def fit(self,X,Y):\n",
    "        self.X = X\n",
    "        self.Y = Y\n",
    "    \n",
    "    def dist(self,p1,p2):\n",
    "        return np.linalg.norm(p1-p2)\n",
    "    \n",
    "    def predict(self,p):\n",
    "        distances = []\n",
    "        \n",
    "        for i in range(len(self.X)):\n",
    "            distances.append((self.dist(self.X[i],p),i))\n",
    "        \n",
    "        distances = sorted(distances, key = lambda x:x[0])\n",
    "        \n",
    "        points_with_distances = distances[0:self.k]\n",
    "        \n",
    "        classes = []\n",
    "        \n",
    "        for dist,i in points_with_distances:\n",
    "            classes.append(self.Y[i])\n",
    "        \n",
    "        class_,counts = np.unique(classes,return_counts = True)\n",
    "        \n",
    "        index = np.argmax(counts)\n",
    "        \n",
    "        return class_[index]"
   ]
  },
  {
   "cell_type": "code",
   "execution_count": 7,
   "metadata": {},
   "outputs": [],
   "source": [
    "knn_model = KNN(15)"
   ]
  },
  {
   "cell_type": "code",
   "execution_count": 8,
   "metadata": {},
   "outputs": [],
   "source": [
    "knn_model.fit(X,Y)\n"
   ]
  },
  {
   "cell_type": "markdown",
   "metadata": {},
   "source": [
    "# writing the prediction code"
   ]
  },
  {
   "cell_type": "code",
   "execution_count": 9,
   "metadata": {},
   "outputs": [],
   "source": [
    "test = pd.read_csv(\"Downloads/Diabetes_Xtest.csv\")\n",
    "\n",
    "test = test.values"
   ]
  },
  {
   "cell_type": "code",
   "execution_count": 10,
   "metadata": {},
   "outputs": [
    {
     "name": "stdout",
     "output_type": "stream",
     "text": [
      "     outcome\n",
      "0          0\n",
      "1          0\n",
      "2          0\n",
      "3          0\n",
      "4          0\n",
      "..       ...\n",
      "187        0\n",
      "188        0\n",
      "189        1\n",
      "190        0\n",
      "191        0\n",
      "\n",
      "[192 rows x 1 columns]\n"
     ]
    }
   ],
   "source": [
    "import csv\n",
    "with open(\"Diabetes_classification.csv\",\"w\") as f:\n",
    "    csv_writer = csv.writer(f)\n",
    "    header = [\"outcome\"]\n",
    "    csv_writer.writerow(header)\n",
    "    for i in range(len(test)):\n",
    "        k = knn_model.predict(test[i])\n",
    "        csv_writer.writerow([str(k)])\n",
    "\n",
    "output = pd.read_csv(\"Diabetes_classification.csv\")\n",
    "print(output)"
   ]
  },
  {
   "cell_type": "code",
   "execution_count": null,
   "metadata": {},
   "outputs": [],
   "source": []
  }
 ],
 "metadata": {
  "kernelspec": {
   "display_name": "Python 3",
   "language": "python",
   "name": "python3"
  },
  "language_info": {
   "codemirror_mode": {
    "name": "ipython",
    "version": 3
   },
   "file_extension": ".py",
   "mimetype": "text/x-python",
   "name": "python",
   "nbconvert_exporter": "python",
   "pygments_lexer": "ipython3",
   "version": "3.8.5"
  }
 },
 "nbformat": 4,
 "nbformat_minor": 4
}
