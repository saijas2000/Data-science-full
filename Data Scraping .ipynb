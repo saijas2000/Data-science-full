{
 "cells": [
  {
   "cell_type": "markdown",
   "metadata": {},
   "source": [
    "\n",
    "# Url"
   ]
  },
  {
   "cell_type": "code",
   "execution_count": 1,
   "metadata": {},
   "outputs": [],
   "source": [
    "url = \"http://api.icndb.com/jokes\""
   ]
  },
  {
   "cell_type": "markdown",
   "metadata": {},
   "source": [
    "# reading test data"
   ]
  },
  {
   "cell_type": "code",
   "execution_count": 2,
   "metadata": {},
   "outputs": [
    {
     "name": "stdout",
     "output_type": "stream",
     "text": [
      "      ID\n",
      "0      1\n",
      "1      2\n",
      "2      3\n",
      "3      4\n",
      "4      5\n",
      "..   ...\n",
      "468  495\n",
      "469  496\n",
      "470  497\n",
      "471  498\n",
      "472  499\n",
      "\n",
      "[473 rows x 1 columns]\n"
     ]
    }
   ],
   "source": [
    "import pandas as pd\n",
    "\n",
    "test_data = pd.read_csv(\"Downloads/Test/test.csv\")\n",
    "\n",
    "print(test_data)"
   ]
  },
  {
   "cell_type": "markdown",
   "metadata": {},
   "source": [
    "# Url opening"
   ]
  },
  {
   "cell_type": "code",
   "execution_count": 3,
   "metadata": {},
   "outputs": [],
   "source": [
    "import requests\n",
    "r = requests.get(url)\n",
    "\n",
    "\n",
    "    "
   ]
  },
  {
   "cell_type": "markdown",
   "metadata": {},
   "source": [
    "# writing to csv file"
   ]
  },
  {
   "cell_type": "code",
   "execution_count": 4,
   "metadata": {},
   "outputs": [
    {
     "name": "stdout",
     "output_type": "stream",
     "text": [
      "      ID                                               Joke\n",
      "0      1  Chuck Norris uses ribbed condoms inside out, s...\n",
      "1      2  MacGyver can build an airplane out of gum and ...\n",
      "2      3  Chuck Norris doesn't read books. He stares the...\n",
      "3      4  If you ask Chuck Norris what time it is, he al...\n",
      "4      5  Chuck Norris lost his virginity before his dad...\n",
      "..   ...                                                ...\n",
      "468  495  Chuck Norris doesn't needs try-catch, exceptio...\n",
      "469  496         Chuck Norris went out of an infinite loop.\n",
      "470  497  If Chuck Norris writes code with bugs, the bug...\n",
      "471  498    Chuck Norris hosting is 101% uptime guaranteed.\n",
      "472  499           Chuck Norris's keyboard has the Any key.\n",
      "\n",
      "[473 rows x 2 columns]\n"
     ]
    }
   ],
   "source": [
    "import bs4\n",
    "import csv\n",
    "import json\n",
    "\n",
    "data = r.content.decode(\"UTF-8\")\n",
    "data = json.loads(data)\n",
    "\n",
    "with open(\"output_jokes.csv\",\"w\") as f:\n",
    "    output = []\n",
    "    header = [\"ID\",\"Joke\"]\n",
    "    for i in range(473):\n",
    "        url_index = i+1\n",
    "        if data[\"value\"][url_index-1][\"joke\"]:\n",
    "            id_value = str(data[\"value\"][url_index-1][\"id\"])\n",
    "            joke = data[\"value\"][url_index-1][\"joke\"]\n",
    "            output.append([id_value,joke])\n",
    "    \n",
    "    csv_writer = csv.writer(f)\n",
    "    csv_writer.writerow(header)\n",
    "    csv_writer.writerows(output)\n",
    "            \n",
    "            \n",
    "            \n",
    "buffer = pd.read_csv(\"output_jokes.csv\")            \n",
    "\n",
    "print(buffer)\n",
    "\n",
    "        "
   ]
  },
  {
   "cell_type": "code",
   "execution_count": null,
   "metadata": {},
   "outputs": [],
   "source": []
  }
 ],
 "metadata": {
  "kernelspec": {
   "display_name": "Python 3",
   "language": "python",
   "name": "python3"
  },
  "language_info": {
   "codemirror_mode": {
    "name": "ipython",
    "version": 3
   },
   "file_extension": ".py",
   "mimetype": "text/x-python",
   "name": "python",
   "nbconvert_exporter": "python",
   "pygments_lexer": "ipython3",
   "version": "3.8.5"
  }
 },
 "nbformat": 4,
 "nbformat_minor": 4
}
