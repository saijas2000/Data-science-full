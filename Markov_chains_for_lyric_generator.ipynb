{
  "cells": [
    {
      "cell_type": "markdown",
      "metadata": {
        "id": "view-in-github",
        "colab_type": "text"
      },
      "source": [
        "<a href=\"https://colab.research.google.com/github/saijas2000/Data-science-full/blob/main/Markov_chains_for_lyric_generator.ipynb\" target=\"_parent\"><img src=\"https://colab.research.google.com/assets/colab-badge.svg\" alt=\"Open In Colab\"/></a>"
      ]
    },
    {
      "cell_type": "markdown",
      "metadata": {
        "id": "mE7DwzR9dvwy"
      },
      "source": [
        "# Importing all the libraries"
      ]
    },
    {
      "cell_type": "code",
      "execution_count": 13,
      "metadata": {
        "id": "Z79xjPnSdvxE"
      },
      "outputs": [],
      "source": [
        "import numpy as np\n",
        "np.random.seed(11)"
      ]
    },
    {
      "cell_type": "markdown",
      "metadata": {
        "id": "IHdWGmZ6dvxK"
      },
      "source": [
        "# Defining All the functions"
      ]
    },
    {
      "cell_type": "code",
      "execution_count": 14,
      "metadata": {
        "id": "gipaD7GXdvxM"
      },
      "outputs": [],
      "source": [
        "def generatetable(data,k=4):\n",
        "    T = {}\n",
        "    for i in range(0,len(data)-k):\n",
        "        X = data[i:i+k]\n",
        "        Y = data[i+k]\n",
        "        if T.get(X) is None:\n",
        "            T[X] = {}\n",
        "            T[X][Y] = 1\n",
        "        else:\n",
        "            if T[X].get(Y) is None:\n",
        "                T[X][Y] = 1\n",
        "            else:\n",
        "                T[X][Y] += 1\n",
        "    return T"
      ]
    },
    {
      "cell_type": "code",
      "execution_count": 15,
      "metadata": {
        "id": "HAwbt3l8dvxP"
      },
      "outputs": [],
      "source": [
        "T=generatetable(\"hello hello helli\",4)"
      ]
    },
    {
      "cell_type": "code",
      "execution_count": 16,
      "metadata": {
        "id": "rfEu28Z5dvxR"
      },
      "outputs": [],
      "source": [
        "def convertfreqintoprob(T):\n",
        "    for kx in T.keys():\n",
        "        s = float(sum(T[kx].values()))\n",
        "        for k in T[kx].keys():\n",
        "            T[kx][k] = T[kx][k]/s\n",
        "    return T"
      ]
    },
    {
      "cell_type": "code",
      "execution_count": 17,
      "metadata": {
        "id": "2yOUMyd8dvxT"
      },
      "outputs": [],
      "source": [
        "txt_path = \"/content/Apna Time Aayega.txt\""
      ]
    },
    {
      "cell_type": "code",
      "execution_count": 18,
      "metadata": {
        "id": "a2qu-aZkdvxW"
      },
      "outputs": [],
      "source": [
        "def load_text(filename):\n",
        "    with open(filename,encoding=\"utf8\") as f:\n",
        "        return f.read().lower()"
      ]
    },
    {
      "cell_type": "code",
      "execution_count": 19,
      "metadata": {
        "id": "1YMWDRX7dvxZ"
      },
      "outputs": [],
      "source": [
        "text_load = load_text(txt_path)"
      ]
    },
    {
      "cell_type": "code",
      "execution_count": 20,
      "metadata": {
        "id": "RTppaW9Ndvxc"
      },
      "outputs": [],
      "source": [
        "def trainMarkovchain(text,k=4):\n",
        "    T = generatetable(text,k)\n",
        "    T = convertfreqintoprob(T)\n",
        "    return T"
      ]
    },
    {
      "cell_type": "markdown",
      "metadata": {
        "id": "kHj15KeJdvxe"
      },
      "source": [
        "# Generate Text at Text Time"
      ]
    },
    {
      "cell_type": "code",
      "execution_count": 21,
      "metadata": {
        "id": "s1kz1F_Rdvxk"
      },
      "outputs": [],
      "source": [
        "model = trainMarkovchain(text_load)"
      ]
    },
    {
      "cell_type": "code",
      "execution_count": 22,
      "metadata": {
        "id": "1VKm9-Ufdvxm"
      },
      "outputs": [],
      "source": [
        "def sample_text(ctx,T,k):\n",
        "    ctx = ctx[-k:]\n",
        "    if T.get(ctx) is None:\n",
        "        return \" \"\n",
        "    possible_chars = list(T[ctx].keys())\n",
        "    possible_values = list(T[ctx].values())\n",
        "    return np.random.choice(possible_chars,p=possible_values)"
      ]
    },
    {
      "cell_type": "code",
      "execution_count": 23,
      "metadata": {
        "id": "ZRnk1E5vdvxn"
      },
      "outputs": [],
      "source": [
        "def generatetext(starting_sent,k = 4,maxLen=2000):\n",
        "    sentence = starting_sent\n",
        "    ctx = sentence[-k:]\n",
        "    for ix in range(maxLen):\n",
        "        next_prediction = sample_text(ctx,model,k)\n",
        "        sentence += next_prediction\n",
        "        ctx = sentence[-k:]\n",
        "    return sentence"
      ]
    },
    {
      "cell_type": "code",
      "execution_count": 24,
      "metadata": {
        "id": "1QCgI-Bwdvxp"
      },
      "outputs": [],
      "source": [
        "with open(\"output.txt\",\"w\",encoding = \"utf-8\") as f:\n",
        "    f.write(generatetext(\"apna\"))"
      ]
    }
  ],
  "metadata": {
    "kernelspec": {
      "display_name": "Python 3",
      "language": "python",
      "name": "python3"
    },
    "language_info": {
      "codemirror_mode": {
        "name": "ipython",
        "version": 3
      },
      "file_extension": ".py",
      "mimetype": "text/x-python",
      "name": "python",
      "nbconvert_exporter": "python",
      "pygments_lexer": "ipython3",
      "version": "3.8.5"
    },
    "colab": {
      "name": "Markov_chains_for_lyric_generator.ipynb",
      "provenance": [],
      "include_colab_link": true
    }
  },
  "nbformat": 4,
  "nbformat_minor": 0
}