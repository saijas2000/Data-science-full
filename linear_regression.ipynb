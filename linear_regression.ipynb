{
 "cells": [
  {
   "cell_type": "markdown",
   "metadata": {},
   "source": [
    "# Importing all the libraries"
   ]
  },
  {
   "cell_type": "code",
   "execution_count": 1,
   "metadata": {},
   "outputs": [],
   "source": [
    "import numpy as np\n",
    "import pandas as pd"
   ]
  },
  {
   "cell_type": "markdown",
   "metadata": {},
   "source": [
    "# Getting the dataset"
   ]
  },
  {
   "cell_type": "code",
   "execution_count": 2,
   "metadata": {},
   "outputs": [],
   "source": [
    "X = pd.read_csv(\"Downloads/Linear_X_Train.csv\")\n",
    "Y = pd.read_csv(\"Downloads/Linear_Y_Train.csv\")\n"
   ]
  },
  {
   "cell_type": "markdown",
   "metadata": {},
   "source": [
    "# defining The functions"
   ]
  },
  {
   "cell_type": "code",
   "execution_count": 3,
   "metadata": {},
   "outputs": [],
   "source": [
    "X = X.values\n",
    "Y = Y.values"
   ]
  },
  {
   "cell_type": "code",
   "execution_count": 4,
   "metadata": {},
   "outputs": [],
   "source": [
    "X = (X-X.mean())/X.std()"
   ]
  },
  {
   "cell_type": "code",
   "execution_count": 5,
   "metadata": {},
   "outputs": [],
   "source": [
    "def predict(X,theta):\n",
    "    return theta[0]+theta[1]*X\n"
   ]
  },
  {
   "cell_type": "code",
   "execution_count": 6,
   "metadata": {},
   "outputs": [],
   "source": [
    "def gradient(X,Y,theta):\n",
    "    n = X.shape[0]\n",
    "    grad = np.zeros((2,))\n",
    "    for i in range(n):\n",
    "        y_hat = theta[0]+theta[1]*X[i]\n",
    "        grad[0] += (y_hat-Y[i])\n",
    "        grad[1] += (y_hat-Y[i])*X[i]\n",
    "    \n",
    "    return grad/n"
   ]
  },
  {
   "cell_type": "code",
   "execution_count": 7,
   "metadata": {},
   "outputs": [],
   "source": [
    "def loss_function(X,Y,theta):\n",
    "    sum1 = 0\n",
    "    for i in range(X.shape[0]):\n",
    "        sum1 += ((theta[1]*X[i]+theta[0])-Y[i])**2\n",
    "    return sum1"
   ]
  },
  {
   "cell_type": "code",
   "execution_count": 8,
   "metadata": {},
   "outputs": [],
   "source": [
    "def gradient_descent(X,Y,learning_rate = 0.01):\n",
    "    theta = np.random.randn(2)\n",
    "    \n",
    "    prev_loss = np.inf\n",
    "    \n",
    "    curr_loss = 0\n",
    "    \n",
    "    while prev_loss>curr_loss:\n",
    "        \n",
    "        \n",
    "        grad = gradient(X,Y,theta)\n",
    "        \n",
    "        prev_loss = loss_function(X,Y,theta)\n",
    "        \n",
    "        theta[0] = theta[0]-(learning_rate*grad[0])\n",
    "        theta[1] = theta[1]-(learning_rate*grad[1])\n",
    "        \n",
    "        curr_loss = loss_function(X,Y,theta)\n",
    "        \n",
    "    \n",
    "    \n",
    "    return theta"
   ]
  },
  {
   "cell_type": "code",
   "execution_count": 9,
   "metadata": {},
   "outputs": [],
   "source": [
    "theta = gradient_descent(X,Y,0.01)"
   ]
  },
  {
   "cell_type": "code",
   "execution_count": 10,
   "metadata": {},
   "outputs": [
    {
     "name": "stdout",
     "output_type": "stream",
     "text": [
      "[ 0.68386901 79.90573091]\n"
     ]
    }
   ],
   "source": [
    "print(theta)"
   ]
  },
  {
   "cell_type": "code",
   "execution_count": 12,
   "metadata": {},
   "outputs": [],
   "source": [
    "test = pd.read_csv(\"Downloads/Linear_X_test.csv\")"
   ]
  },
  {
   "cell_type": "code",
   "execution_count": 13,
   "metadata": {},
   "outputs": [],
   "source": [
    "test = test.values"
   ]
  },
  {
   "cell_type": "code",
   "execution_count": 16,
   "metadata": {},
   "outputs": [
    {
     "name": "stdout",
     "output_type": "stream",
     "text": [
      "                    y\n",
      "0       [-149.374652]\n",
      "1      [-68.75676141]\n",
      "2     [-201.49220696]\n",
      "3      [221.24010271]\n",
      "4        [47.9081663]\n",
      "...               ...\n",
      "1245   [-12.74496724]\n",
      "1246    [75.17379356]\n",
      "1247    [10.91242752]\n",
      "1248   [-21.53292782]\n",
      "1249   [-53.68602218]\n",
      "\n",
      "[1250 rows x 1 columns]\n"
     ]
    }
   ],
   "source": [
    "import csv\n",
    "with open(\"linear_regression.csv\",\"w\") as f:\n",
    "    csv_writer = csv.writer(f)\n",
    "    csv_writer.writerow([\"y\"])\n",
    "    for i in range(len(test)):\n",
    "        buffer = theta[1]*test[i]+theta[0]\n",
    "        csv_writer.writerow([str(buffer)])\n",
    "\n",
    "output = pd.read_csv(\"linear_regression.csv\")\n",
    "print(output)\n",
    "    "
   ]
  },
  {
   "cell_type": "code",
   "execution_count": null,
   "metadata": {},
   "outputs": [],
   "source": []
  }
 ],
 "metadata": {
  "kernelspec": {
   "display_name": "Python 3",
   "language": "python",
   "name": "python3"
  },
  "language_info": {
   "codemirror_mode": {
    "name": "ipython",
    "version": 3
   },
   "file_extension": ".py",
   "mimetype": "text/x-python",
   "name": "python",
   "nbconvert_exporter": "python",
   "pygments_lexer": "ipython3",
   "version": "3.8.5"
  }
 },
 "nbformat": 4,
 "nbformat_minor": 4
}
